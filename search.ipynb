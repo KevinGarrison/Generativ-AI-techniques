{
 "cells": [
  {
   "cell_type": "markdown",
   "metadata": {},
   "source": [
    "# Searching Strategies"
   ]
  },
  {
   "cell_type": "markdown",
   "metadata": {},
   "source": [
    "## Data"
   ]
  },
  {
   "cell_type": "code",
   "execution_count": 9,
   "metadata": {},
   "outputs": [],
   "source": [
    "movies = [\n",
    "    {\"title\": \"Inception\", \"description\": \"A thief who enters the dreams of others to steal secrets is given a task to plant an idea in someone's mind.\", \"genre\": \"Sci-Fi, Thriller\"},\n",
    "    {\"title\": \"The Matrix\", \"description\": \"A hacker discovers the reality he lives in is a simulation and joins a rebellion against its controllers.\", \"genre\": \"Sci-Fi, Action\"},\n",
    "    {\"title\": \"Interstellar\", \"description\": \"A team of explorers travel through a wormhole in space to save humanity from a dying Earth.\", \"genre\": \"Sci-Fi, Drama\"},\n",
    "    {\"title\": \"The Dark Knight\", \"description\": \"Batman battles the Joker, a criminal mastermind who wants to create chaos in Gotham City.\", \"genre\": \"Action, Crime\"},\n",
    "    {\"title\": \"Titanic\", \"description\": \"A love story unfolds between a young aristocrat and a poor artist aboard the ill-fated Titanic.\", \"genre\": \"Romance, Drama\"},\n",
    "    {\"title\": \"Avatar\", \"description\": \"A paraplegic Marine is sent to an alien planet where he becomes part of an indigenous tribe and fights for their survival.\", \"genre\": \"Sci-Fi, Adventure\"},\n",
    "    {\"title\": \"The Godfather\", \"description\": \"The aging patriarch of an organized crime dynasty transfers control of his empire to his reluctant son.\", \"genre\": \"Crime, Drama\"},\n",
    "    {\"title\": \"Pulp Fiction\", \"description\": \"Interwoven stories of crime, violence, and redemption in Los Angeles.\", \"genre\": \"Crime, Drama\"},\n",
    "    {\"title\": \"The Shawshank Redemption\", \"description\": \"A man wrongly imprisoned for murder finds friendship and hope inside a maximum-security prison.\", \"genre\": \"Drama\"},\n",
    "    {\"title\": \"Forrest Gump\", \"description\": \"A man with a low IQ unknowingly influences major historical events while searching for his lost love.\", \"genre\": \"Drama, Romance\"},\n",
    "    {\"title\": \"The Avengers\", \"description\": \"Earth's mightiest heroes must unite to stop an alien invasion led by Loki.\", \"genre\": \"Action, Sci-Fi\"},\n",
    "    {\"title\": \"Gladiator\", \"description\": \"A betrayed Roman general fights for vengeance as a gladiator in the Colosseum.\", \"genre\": \"Action, Drama\"},\n",
    "    {\"title\": \"Joker\", \"description\": \"A mentally troubled comedian's descent into madness leads to the birth of Gotham's infamous villain.\", \"genre\": \"Crime, Drama\"},\n",
    "    {\"title\": \"The Lion King\", \"description\": \"A young lion cub flees after his father's murder but returns to reclaim his kingdom.\", \"genre\": \"Animation, Drama\"},\n",
    "    {\"title\": \"The Lord of the Rings: The Fellowship of the Ring\", \"description\": \"A young hobbit embarks on a quest to destroy a powerful ring that could doom Middle-earth.\", \"genre\": \"Fantasy, Adventure\"},\n",
    "    {\"title\": \"Star Wars: A New Hope\", \"description\": \"A farm boy joins a rebellion to defeat an evil empire and rescue a princess.\", \"genre\": \"Sci-Fi, Adventure\"},\n",
    "    {\"title\": \"Black Panther\", \"description\": \"The king of Wakanda must protect his nation from enemies while embracing his role as the Black Panther.\", \"genre\": \"Action, Sci-Fi\"},\n",
    "    {\"title\": \"The Terminator\", \"description\": \"A cyborg assassin from the future is sent to kill a woman whose unborn child will lead a resistance against machines.\", \"genre\": \"Sci-Fi, Action\"},\n",
    "    {\"title\": \"Jurassic Park\", \"description\": \"Scientists clone dinosaurs for a theme park, but chaos ensues when security fails.\", \"genre\": \"Sci-Fi, Adventure\"},\n",
    "    {\"title\": \"Deadpool\", \"description\": \"A wisecracking mercenary with accelerated healing seeks revenge on the man who experimented on him.\", \"genre\": \"Action, Comedy\"}\n",
    "]\n"
   ]
  },
  {
   "cell_type": "markdown",
   "metadata": {},
   "source": [
    "## Create Documents"
   ]
  },
  {
   "cell_type": "code",
   "execution_count": 10,
   "metadata": {},
   "outputs": [
    {
     "name": "stdout",
     "output_type": "stream",
     "text": [
      "[Document(metadata={'title': 'Inception', 'genre': 'Sci-Fi, Thriller'}, page_content=\"A thief who enters the dreams of others to steal secrets is given a task to plant an idea in someone's mind.\"), Document(metadata={'title': 'The Matrix', 'genre': 'Sci-Fi, Action'}, page_content='A hacker discovers the reality he lives in is a simulation and joins a rebellion against its controllers.'), Document(metadata={'title': 'Interstellar', 'genre': 'Sci-Fi, Drama'}, page_content='A team of explorers travel through a wormhole in space to save humanity from a dying Earth.'), Document(metadata={'title': 'The Dark Knight', 'genre': 'Action, Crime'}, page_content='Batman battles the Joker, a criminal mastermind who wants to create chaos in Gotham City.'), Document(metadata={'title': 'Titanic', 'genre': 'Romance, Drama'}, page_content='A love story unfolds between a young aristocrat and a poor artist aboard the ill-fated Titanic.'), Document(metadata={'title': 'Avatar', 'genre': 'Sci-Fi, Adventure'}, page_content='A paraplegic Marine is sent to an alien planet where he becomes part of an indigenous tribe and fights for their survival.'), Document(metadata={'title': 'The Godfather', 'genre': 'Crime, Drama'}, page_content='The aging patriarch of an organized crime dynasty transfers control of his empire to his reluctant son.'), Document(metadata={'title': 'Pulp Fiction', 'genre': 'Crime, Drama'}, page_content='Interwoven stories of crime, violence, and redemption in Los Angeles.'), Document(metadata={'title': 'The Shawshank Redemption', 'genre': 'Drama'}, page_content='A man wrongly imprisoned for murder finds friendship and hope inside a maximum-security prison.'), Document(metadata={'title': 'Forrest Gump', 'genre': 'Drama, Romance'}, page_content='A man with a low IQ unknowingly influences major historical events while searching for his lost love.'), Document(metadata={'title': 'The Avengers', 'genre': 'Action, Sci-Fi'}, page_content=\"Earth's mightiest heroes must unite to stop an alien invasion led by Loki.\"), Document(metadata={'title': 'Gladiator', 'genre': 'Action, Drama'}, page_content='A betrayed Roman general fights for vengeance as a gladiator in the Colosseum.'), Document(metadata={'title': 'Joker', 'genre': 'Crime, Drama'}, page_content=\"A mentally troubled comedian's descent into madness leads to the birth of Gotham's infamous villain.\"), Document(metadata={'title': 'The Lion King', 'genre': 'Animation, Drama'}, page_content=\"A young lion cub flees after his father's murder but returns to reclaim his kingdom.\"), Document(metadata={'title': 'The Lord of the Rings: The Fellowship of the Ring', 'genre': 'Fantasy, Adventure'}, page_content='A young hobbit embarks on a quest to destroy a powerful ring that could doom Middle-earth.'), Document(metadata={'title': 'Star Wars: A New Hope', 'genre': 'Sci-Fi, Adventure'}, page_content='A farm boy joins a rebellion to defeat an evil empire and rescue a princess.'), Document(metadata={'title': 'Black Panther', 'genre': 'Action, Sci-Fi'}, page_content='The king of Wakanda must protect his nation from enemies while embracing his role as the Black Panther.'), Document(metadata={'title': 'The Terminator', 'genre': 'Sci-Fi, Action'}, page_content='A cyborg assassin from the future is sent to kill a woman whose unborn child will lead a resistance against machines.'), Document(metadata={'title': 'Jurassic Park', 'genre': 'Sci-Fi, Adventure'}, page_content='Scientists clone dinosaurs for a theme park, but chaos ensues when security fails.'), Document(metadata={'title': 'Deadpool', 'genre': 'Action, Comedy'}, page_content='A wisecracking mercenary with accelerated healing seeks revenge on the man who experimented on him.')]\n"
     ]
    }
   ],
   "source": [
    "from langchain.schema import Document\n",
    "\n",
    "documents = [\n",
    "    Document(\n",
    "        page_content=movie['description'],\n",
    "        metadata={\"title\": movie['title'], \"genre\": movie['genre']}\n",
    "    )\n",
    "    for movie in movies  # Iterate over each dictionary in the list\n",
    "]\n",
    "\n",
    "# Check the output\n",
    "print(documents)\n"
   ]
  },
  {
   "cell_type": "markdown",
   "metadata": {},
   "source": [
    "## Embedding and ChromaDB"
   ]
  },
  {
   "cell_type": "code",
   "execution_count": 11,
   "metadata": {},
   "outputs": [
    {
     "name": "stderr",
     "output_type": "stream",
     "text": [
      "/var/folders/t1/w3kt562s5f506mx_8nwtbb940000gn/T/ipykernel_33837/105476952.py:4: LangChainDeprecationWarning: The class `HuggingFaceEmbeddings` was deprecated in LangChain 0.2.2 and will be removed in 1.0. An updated version of the class exists in the :class:`~langchain-huggingface package and should be used instead. To use it run `pip install -U :class:`~langchain-huggingface` and import as `from :class:`~langchain_huggingface import HuggingFaceEmbeddings``.\n",
      "  embedding_model = SentenceTransformerEmbeddings(model_name=\"all-MiniLM-L6-v2\")\n",
      "/Users/kevin.garrison/VS_Code_Projekte/Generativ-AI-techniques/.venv/lib/python3.12/site-packages/tqdm/auto.py:21: TqdmWarning: IProgress not found. Please update jupyter and ipywidgets. See https://ipywidgets.readthedocs.io/en/stable/user_install.html\n",
      "  from .autonotebook import tqdm as notebook_tqdm\n"
     ]
    }
   ],
   "source": [
    "from langchain.embeddings import SentenceTransformerEmbeddings\n",
    "from langchain.vectorstores import Chroma\n",
    "\n",
    "embedding_model = SentenceTransformerEmbeddings(model_name=\"all-MiniLM-L6-v2\")\n",
    "\n",
    "vector_store = Chroma.from_documents(documents, embedding_model)"
   ]
  },
  {
   "cell_type": "markdown",
   "metadata": {},
   "source": [
    "## Vector Search"
   ]
  },
  {
   "cell_type": "code",
   "execution_count": 17,
   "metadata": {},
   "outputs": [
    {
     "name": "stdout",
     "output_type": "stream",
     "text": [
      "General Vector Search Results:\n",
      "Title: Inception, Genre: Sci-Fi, Thriller, Description: A thief who enters the dreams of others to steal secrets is given a task to plant an idea in someone's mind.\n",
      "Title: Pulp Fiction, Genre: Crime, Drama, Description: Interwoven stories of crime, violence, and redemption in Los Angeles.\n",
      "\n",
      "Filtered Search by Genre Results:\n",
      "Title: Interstellar, Genre: Sci-Fi, Drama, Description: A team of explorers travel through a wormhole in space to save humanity from a dying Earth.\n",
      "Title: Avatar, Genre: Sci-Fi, Adventure, Description: A paraplegic Marine is sent to an alien planet where he becomes part of an indigenous tribe and fights for their survival.\n"
     ]
    }
   ],
   "source": [
    "def vector_search(query, top_k=2):\n",
    "    \"\"\"Search movies Vector\"\"\"\n",
    "    results = vector_store.similarity_search(query, k=top_k)\n",
    "    return [\n",
    "        {\"title\": res.metadata[\"title\"], \"description\": res.page_content, \"genre\": res.metadata[\"genre\"]}\n",
    "        for res in results\n",
    "    ]\n",
    "\n",
    "def search_by_genre(query, genre, top_k=3):\n",
    "    \"\"\"Search movies by query and filter by genre.\"\"\"\n",
    "    \n",
    "    # Perform a broader similarity search to retrieve initial results\n",
    "    all_results = vector_store.similarity_search(query, k=top_k)\n",
    "    \n",
    "    # Filter results based on genre (case-insensitive and allowing partial matches)\n",
    "    filtered_results = [\n",
    "        res for res in all_results \n",
    "        if \"genre\" in res.metadata and genre.lower() in res.metadata[\"genre\"].lower()\n",
    "    ]\n",
    "    \n",
    "    # Return the top-k filtered results\n",
    "    return filtered_results[:top_k]\n",
    "\n",
    "# Query 1: General Vector Search\n",
    "query1 = \"A complex story about exploring dreams and reality.\"\n",
    "results1 = vector_search(query1, top_k=2)\n",
    "print(\"General Vector Search Results:\")\n",
    "for movie in results1:\n",
    "    print(f\"Title: {movie['title']}, Genre: {movie['genre']}, Description: {movie['description']}\")\n",
    "\n",
    "# Query 2: Filtered Search by Genre\n",
    "query2 = \"An epic adventure through space and beyond.\"\n",
    "results2 = search_by_genre(query2, genre=\"Sci-Fi\", top_k=2)\n",
    "print(\"\\nFiltered Search by Genre Results:\")\n",
    "for movie in results2:\n",
    "    print(f\"Title: {movie.metadata.get('title', 'Unknown')}, \"\n",
    "          f\"Genre: {movie.metadata.get('genre', 'Unknown')}, \"\n",
    "          f\"Description: {movie.page_content}\")"
   ]
  },
  {
   "cell_type": "markdown",
   "metadata": {},
   "source": [
    "## Semantic Search"
   ]
  },
  {
   "cell_type": "code",
   "execution_count": null,
   "metadata": {},
   "outputs": [
    {
     "name": "stderr",
     "output_type": "stream",
     "text": [
      "Device set to use mps:0\n"
     ]
    },
    {
     "name": "stdout",
     "output_type": "stream",
     "text": [
      "Semantic Search Results:\n",
      "Jurassic Park\n"
     ]
    }
   ],
   "source": [
    "from langchain.chains import RetrievalQA\n",
    "from langchain.vectorstores import Chroma\n",
    "from langchain.embeddings import HuggingFaceEmbeddings\n",
    "from langchain.llms import HuggingFacePipeline\n",
    "from transformers import pipeline\n",
    "from langchain.schema import Document\n",
    "\n",
    "# Step 2: Generate embeddings using Hugging Face Embeddings\n",
    "embedding_model_name = \"sentence-transformers/all-MiniLM-L6-v2\"\n",
    "embedding_model = HuggingFaceEmbeddings(model_name=embedding_model_name)\n",
    "\n",
    "# Convert movie data to Documents\n",
    "documents = [\n",
    "    Document(\n",
    "        page_content=movie[\"description\"],\n",
    "        metadata={\"title\": movie[\"title\"]}\n",
    "    )\n",
    "    for movie in movies\n",
    "]\n",
    "\n",
    "# Initialize ChromaDB with movie documents\n",
    "vector_store = Chroma.from_documents(documents, embedding_model)\n",
    "\n",
    "# Step 3: Set up a Hugging Face pipeline for LLM\n",
    "llm_model_name = \"google/flan-t5-large\"  \n",
    "hf_pipeline = pipeline(\"text2text-generation\", model=llm_model_name, device=0)  \n",
    "llm = HuggingFacePipeline(pipeline=hf_pipeline)\n",
    "\n",
    "# Step 4: Create a Retrieval Chain using the retriever\n",
    "retriever = vector_store.as_retriever()\n",
    "\n",
    "# Custom prompt to ensure specific results\n",
    "def custom_prompt(query: str):\n",
    "    return f\"\"\"\n",
    "    You are a helpful assistant tasked with retrieving movie titles based on descriptions.\n",
    "    Query: {query}\n",
    "    From the following dataset, only provide the movie titles that match:\n",
    "    Dataset: {', '.join([doc.metadata['title'] for doc in documents])}\n",
    "    Response:\n",
    "    \"\"\"\n",
    "\n",
    "# Define the QA chain with the custom prompt\n",
    "qa_chain = RetrievalQA.from_chain_type(llm=llm, retriever=retriever)\n",
    "\n",
    "# Step 5: Perform semantic search\n",
    "semantic_query = \"Find me movies about dinosaurs\"\n",
    "custom_query = custom_prompt(semantic_query)\n",
    "semantic_results = qa_chain.run(custom_query)\n",
    "\n",
    "print(\"Semantic Search Results:\")\n",
    "print(semantic_results)\n"
   ]
  }
 ],
 "metadata": {
  "kernelspec": {
   "display_name": ".venv",
   "language": "python",
   "name": "python3"
  },
  "language_info": {
   "codemirror_mode": {
    "name": "ipython",
    "version": 3
   },
   "file_extension": ".py",
   "mimetype": "text/x-python",
   "name": "python",
   "nbconvert_exporter": "python",
   "pygments_lexer": "ipython3",
   "version": "3.12.8"
  }
 },
 "nbformat": 4,
 "nbformat_minor": 2
}
